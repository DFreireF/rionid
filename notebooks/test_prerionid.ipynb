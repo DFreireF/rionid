{
 "cells": [
  {
   "cell_type": "code",
   "execution_count": 7,
   "id": "c8ae59f7",
   "metadata": {},
   "outputs": [
    {
     "name": "stdout",
     "output_type": "stream",
     "text": [
      "The autoreload extension is already loaded. To reload it, use:\n",
      "  %reload_ext autoreload\n"
     ]
    }
   ],
   "source": [
    "%load_ext autoreload\n",
    "%autoreload 2"
   ]
  },
  {
   "cell_type": "code",
   "execution_count": 42,
   "id": "b37dc783",
   "metadata": {},
   "outputs": [],
   "source": [
    "%matplotlib inline"
   ]
  },
  {
   "cell_type": "code",
   "execution_count": 9,
   "id": "a77b22bb",
   "metadata": {},
   "outputs": [],
   "source": [
    "import numpy as np"
   ]
  },
  {
   "cell_type": "code",
   "execution_count": 76,
   "id": "85c52f91",
   "metadata": {},
   "outputs": [],
   "source": [
    "from prerionid.psdata import *"
   ]
  },
  {
   "cell_type": "code",
   "execution_count": 77,
   "id": "5d8fdaaa",
   "metadata": {},
   "outputs": [],
   "source": [
    "filenametiq ='/run/media/duskdawn/FREIRE/E143_analyzers/data1/410/E143-410MHz-2021.05.08.21.17.38.734.tiq'"
   ]
  },
  {
   "cell_type": "code",
   "execution_count": 86,
   "id": "241ef90a",
   "metadata": {},
   "outputs": [],
   "source": [
    "mydata = ProcessSchottkyData(filenametiq, skip_time=0, analysis_time=10, time_bin_size=0.009)"
   ]
  },
  {
   "cell_type": "code",
   "execution_count": 87,
   "id": "1d0f92e0",
   "metadata": {},
   "outputs": [],
   "source": [
    "mydata.get_exp_data()"
   ]
  },
  {
   "cell_type": "code",
   "execution_count": 88,
   "id": "bc68a952",
   "metadata": {},
   "outputs": [
    {
     "data": {
      "image/png": "[encoded data removed]",
      "text/plain": [
       "<Figure size 432x288 with 1 Axes>"
      ]
     },
     "metadata": {
      "needs_background": "light"
     },
     "output_type": "display_data"
    }
   ],
   "source": [
    "plt.plot(mydata.freq, mydata.power)\n",
    "plt.show()"
   ]
  },
  {
   "cell_type": "code",
   "execution_count": 91,
   "id": "59655d16",
   "metadata": {},
   "outputs": [],
   "source": [
    "mydata.save_exp_data(outdir = '/home/duskdawn/git/rionid/notebooks/')"
   ]
  },
  {
   "cell_type": "code",
   "execution_count": null,
   "id": "bc225d36",
   "metadata": {},
   "outputs": [],
   "source": []
  }
 ],
 "metadata": {
  "kernelspec": {
   "display_name": "Python 3 (ipykernel)",
   "language": "python",
   "name": "python3"
  },
  "language_info": {
   "codemirror_mode": {
    "name": "ipython",
    "version": 3
   },
   "file_extension": ".py",
   "mimetype": "text/x-python",
   "name": "python",
   "nbconvert_exporter": "python",
   "pygments_lexer": "ipython3",
   "version": "3.10.4"
  }
 },
 "nbformat": 4,
 "nbformat_minor": 5
}
